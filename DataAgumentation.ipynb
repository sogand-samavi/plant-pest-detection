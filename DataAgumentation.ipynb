{
 "cells": [
  {
   "cell_type": "code",
   "execution_count": 2,
   "id": "67505d12-e9ce-436c-ac0a-d9d72cff3092",
   "metadata": {},
   "outputs": [
    {
     "name": "stderr",
     "output_type": "stream",
     "text": [
      "100%|██████████| 429/429 [00:45<00:00,  9.37it/s]\n"
     ]
    }
   ],
   "source": [
    "import os\n",
    "import cv2\n",
    "import albumentations as A\n",
    "from tqdm import tqdm\n",
    "\n",
    "# مسیر ورودی و خروجی تصاویر\n",
    "input_dir = \"C:/Users/NoteBook/Desktop/dataset_final/D2/images/train\"\n",
    "output_dir = \"C:/Users/NoteBook/Desktop/dataset_final/D2/images/augmented_images\"\n",
    "os.makedirs(output_dir, exist_ok=True)\n",
    "\n",
    "# تعریف عملیات افزایش داده با جلوگیری از گوشه‌های سیاه\n",
    "transform = A.Compose([\n",
    "    A.HorizontalFlip(p=0.5),\n",
    "    A.RandomBrightnessContrast(p=0.5),\n",
    "    A.Rotate(limit=20, p=0.5, border_mode=cv2.BORDER_REFLECT),\n",
    "    A.GaussianBlur(blur_limit=(3, 5), p=0.5),\n",
    "    A.ShiftScaleRotate(shift_limit=0.05, scale_limit=0.1, rotate_limit=15,\n",
    "                       p=0.5, border_mode=cv2.BORDER_REFLECT),\n",
    "    A.RGBShift(r_shift_limit=10, g_shift_limit=10, b_shift_limit=10, p=0.5)\n",
    "])\n",
    "\n",
    "# تعداد نسخه‌هایی که از هر عکس ساخته میشه\n",
    "augment_per_image = 5\n",
    "\n",
    "# پردازش تمام تصاویر\n",
    "for filename in tqdm(os.listdir(input_dir)):\n",
    "    if filename.lower().endswith((\".jpg\", \".jpeg\", \".png\")):\n",
    "        image_path = os.path.join(input_dir, filename)\n",
    "        image = cv2.imread(image_path)\n",
    "\n",
    "        # اعمال افزایش داده چندباره روی هر عکس\n",
    "        for i in range(augment_per_image):\n",
    "            augmented = transform(image=image)[\"image\"]\n",
    "            new_filename = f\"{os.path.splitext(filename)[0]}_aug{i}.jpg\"\n",
    "            cv2.imwrite(os.path.join(output_dir, new_filename), augmented)\n"
   ]
  },
  {
   "cell_type": "code",
   "execution_count": null,
   "id": "2fa7f6d2-610f-41df-bad8-5a2f997843ac",
   "metadata": {},
   "outputs": [],
   "source": []
  }
 ],
 "metadata": {
  "kernelspec": {
   "display_name": "Python 3 (ipykernel)",
   "language": "python",
   "name": "python3"
  },
  "language_info": {
   "codemirror_mode": {
    "name": "ipython",
    "version": 3
   },
   "file_extension": ".py",
   "mimetype": "text/x-python",
   "name": "python",
   "nbconvert_exporter": "python",
   "pygments_lexer": "ipython3",
   "version": "3.11.7"
  }
 },
 "nbformat": 4,
 "nbformat_minor": 5
}
